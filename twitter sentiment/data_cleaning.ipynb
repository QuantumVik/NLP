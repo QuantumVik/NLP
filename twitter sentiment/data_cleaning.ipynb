{
 "cells": [
  {
   "cell_type": "code",
   "id": "initial_id",
   "metadata": {
    "collapsed": true,
    "ExecuteTime": {
     "end_time": "2024-09-07T08:46:22.778369Z",
     "start_time": "2024-09-07T08:46:22.775091Z"
    }
   },
   "source": [
    "import pandas as pd\n",
    "import numpy as np\n",
    "import seaborn as sns\n",
    "from gradio.themes.builder_app import suggestions"
   ],
   "outputs": [],
   "execution_count": 7
  },
  {
   "metadata": {
    "ExecuteTime": {
     "end_time": "2024-09-07T08:41:05.263392Z",
     "start_time": "2024-09-07T08:41:04.642216Z"
    }
   },
   "cell_type": "code",
   "source": "df = pd.read_csv(r'C:\\Users\\Asus\\NLP\\twitter sentiment\\IMDB Dataset.csv')",
   "id": "a88a08fe437f9341",
   "outputs": [],
   "execution_count": 2
  },
  {
   "metadata": {
    "ExecuteTime": {
     "end_time": "2024-09-07T09:01:06.683594Z",
     "start_time": "2024-09-07T09:01:06.677114Z"
    }
   },
   "cell_type": "code",
   "source": "df.shape",
   "id": "c6535eda7e4b84b0",
   "outputs": [
    {
     "data": {
      "text/plain": [
       "(50000, 2)"
      ]
     },
     "execution_count": 21,
     "metadata": {},
     "output_type": "execute_result"
    }
   ],
   "execution_count": 21
  },
  {
   "metadata": {
    "ExecuteTime": {
     "end_time": "2024-09-07T09:01:19.209660Z",
     "start_time": "2024-09-07T09:01:19.173363Z"
    }
   },
   "cell_type": "code",
   "source": "df.info()",
   "id": "51bdc18bf5d16688",
   "outputs": [
    {
     "name": "stdout",
     "output_type": "stream",
     "text": [
      "<class 'pandas.core.frame.DataFrame'>\n",
      "RangeIndex: 50000 entries, 0 to 49999\n",
      "Data columns (total 2 columns):\n",
      " #   Column     Non-Null Count  Dtype \n",
      "---  ------     --------------  ----- \n",
      " 0   review     50000 non-null  object\n",
      " 1   sentiment  50000 non-null  object\n",
      "dtypes: object(2)\n",
      "memory usage: 781.4+ KB\n"
     ]
    }
   ],
   "execution_count": 23
  },
  {
   "metadata": {
    "ExecuteTime": {
     "end_time": "2024-09-07T09:01:36.762624Z",
     "start_time": "2024-09-07T09:01:36.739033Z"
    }
   },
   "cell_type": "code",
   "source": "df.isnull().sum()",
   "id": "87b24a0dbe78ec0e",
   "outputs": [
    {
     "data": {
      "text/plain": [
       "review       0\n",
       "sentiment    0\n",
       "dtype: int64"
      ]
     },
     "execution_count": 24,
     "metadata": {},
     "output_type": "execute_result"
    }
   ],
   "execution_count": 24
  },
  {
   "metadata": {
    "ExecuteTime": {
     "end_time": "2024-09-07T09:01:46.499578Z",
     "start_time": "2024-09-07T09:01:46.416829Z"
    }
   },
   "cell_type": "code",
   "source": "df.describe()",
   "id": "8d5a2ae929a40189",
   "outputs": [
    {
     "data": {
      "text/plain": [
       "                                                   review sentiment\n",
       "count                                               50000     50000\n",
       "unique                                              49580         2\n",
       "top     loved todays show it was a variety and not sol...  positive\n",
       "freq                                                    5     25000"
      ],
      "text/html": [
       "<div>\n",
       "<style scoped>\n",
       "    .dataframe tbody tr th:only-of-type {\n",
       "        vertical-align: middle;\n",
       "    }\n",
       "\n",
       "    .dataframe tbody tr th {\n",
       "        vertical-align: top;\n",
       "    }\n",
       "\n",
       "    .dataframe thead th {\n",
       "        text-align: right;\n",
       "    }\n",
       "</style>\n",
       "<table border=\"1\" class=\"dataframe\">\n",
       "  <thead>\n",
       "    <tr style=\"text-align: right;\">\n",
       "      <th></th>\n",
       "      <th>review</th>\n",
       "      <th>sentiment</th>\n",
       "    </tr>\n",
       "  </thead>\n",
       "  <tbody>\n",
       "    <tr>\n",
       "      <th>count</th>\n",
       "      <td>50000</td>\n",
       "      <td>50000</td>\n",
       "    </tr>\n",
       "    <tr>\n",
       "      <th>unique</th>\n",
       "      <td>49580</td>\n",
       "      <td>2</td>\n",
       "    </tr>\n",
       "    <tr>\n",
       "      <th>top</th>\n",
       "      <td>loved todays show it was a variety and not sol...</td>\n",
       "      <td>positive</td>\n",
       "    </tr>\n",
       "    <tr>\n",
       "      <th>freq</th>\n",
       "      <td>5</td>\n",
       "      <td>25000</td>\n",
       "    </tr>\n",
       "  </tbody>\n",
       "</table>\n",
       "</div>"
      ]
     },
     "execution_count": 25,
     "metadata": {},
     "output_type": "execute_result"
    }
   ],
   "execution_count": 25
  },
  {
   "metadata": {},
   "cell_type": "code",
   "outputs": [],
   "execution_count": null,
   "source": "",
   "id": "4e4b729f11ee1f20"
  },
  {
   "metadata": {
    "ExecuteTime": {
     "end_time": "2024-09-07T08:42:16.464001Z",
     "start_time": "2024-09-07T08:42:16.216863Z"
    }
   },
   "cell_type": "code",
   "source": "df['review']=df['review'].str.lower()",
   "id": "5c87528eb6a72a4b",
   "outputs": [],
   "execution_count": 5
  },
  {
   "metadata": {
    "ExecuteTime": {
     "end_time": "2024-09-07T08:47:51.250927Z",
     "start_time": "2024-09-07T08:47:51.244669Z"
    }
   },
   "cell_type": "code",
   "source": "df['review'][3]",
   "id": "1b393dd9425c9a29",
   "outputs": [
    {
     "data": {
      "text/plain": [
       "\"basically there's a family where a little boy (jake) thinks there's a zombie in his closet & his parents are fighting all the time.<br /><br />this movie is slower than a soap opera... and suddenly, jake decides to become rambo and kill the zombie.<br /><br />ok, first of all when you're going to make a film you must decide if its a thriller or a drama! as a drama the movie is watchable. parents are divorcing & arguing like in real life. and then we have jake with his closet which totally ruins all the film! i expected to see a boogeyman similar movie, and instead i watched a drama with some meaningless thriller spots.<br /><br />3 out of 10 just for the well playing parents & descent dialogs. as for the shots with jake: just ignore them.\""
      ]
     },
     "execution_count": 10,
     "metadata": {},
     "output_type": "execute_result"
    }
   ],
   "execution_count": 10
  },
  {
   "metadata": {},
   "cell_type": "markdown",
   "source": "# HTML remove",
   "id": "40d0263ad65f001b"
  },
  {
   "metadata": {
    "ExecuteTime": {
     "end_time": "2024-09-07T08:49:55.055228Z",
     "start_time": "2024-09-07T08:49:55.050161Z"
    }
   },
   "cell_type": "code",
   "source": [
    "import re\n",
    "\n",
    "def remove_html(text):\n",
    "    pattern = re.compile(r'<.*?>')\n",
    "    return pattern.sub(r'',text)"
   ],
   "id": "88860bc4a145d265",
   "outputs": [],
   "execution_count": 11
  },
  {
   "metadata": {
    "ExecuteTime": {
     "end_time": "2024-09-07T08:51:19.036460Z",
     "start_time": "2024-09-07T08:51:19.030622Z"
    }
   },
   "cell_type": "code",
   "source": "print(remove_html(df['review'][3]))",
   "id": "95c13d7a6cef8830",
   "outputs": [
    {
     "name": "stdout",
     "output_type": "stream",
     "text": [
      "basically there's a family where a little boy (jake) thinks there's a zombie in his closet & his parents are fighting all the time.this movie is slower than a soap opera... and suddenly, jake decides to become rambo and kill the zombie.ok, first of all when you're going to make a film you must decide if its a thriller or a drama! as a drama the movie is watchable. parents are divorcing & arguing like in real life. and then we have jake with his closet which totally ruins all the film! i expected to see a boogeyman similar movie, and instead i watched a drama with some meaningless thriller spots.3 out of 10 just for the well playing parents & descent dialogs. as for the shots with jake: just ignore them.\n"
     ]
    }
   ],
   "execution_count": 14
  },
  {
   "metadata": {
    "ExecuteTime": {
     "end_time": "2024-09-07T08:52:09.786951Z",
     "start_time": "2024-09-07T08:52:09.590003Z"
    }
   },
   "cell_type": "code",
   "source": "df['review']=df['review'].apply(remove_html)",
   "id": "20dff823bae3faa8",
   "outputs": [],
   "execution_count": 15
  },
  {
   "metadata": {},
   "cell_type": "markdown",
   "source": "# Punctuation",
   "id": "3bd50facee029e47"
  },
  {
   "metadata": {
    "ExecuteTime": {
     "end_time": "2024-09-07T09:00:47.022627Z",
     "start_time": "2024-09-07T09:00:47.017271Z"
    }
   },
   "cell_type": "code",
   "source": [
    "import string\n",
    "exclude = string.punctuation\n",
    "\n",
    "def remove_punctuation(text):\n",
    "    return text.translate(str.maketrans('','',exclude))"
   ],
   "id": "c842580358031eff",
   "outputs": [],
   "execution_count": 18
  },
  {
   "metadata": {
    "ExecuteTime": {
     "end_time": "2024-09-07T09:00:49.249784Z",
     "start_time": "2024-09-07T09:00:48.192039Z"
    }
   },
   "cell_type": "code",
   "source": "df['review']=df['review'].apply(remove_punctuation)",
   "id": "650a86f0eb536746",
   "outputs": [],
   "execution_count": 19
  },
  {
   "metadata": {
    "ExecuteTime": {
     "end_time": "2024-09-07T09:08:18.248803Z",
     "start_time": "2024-09-07T09:08:18.243665Z"
    }
   },
   "cell_type": "code",
   "source": "df['review'][3]",
   "id": "4b9844c9bf3849ab",
   "outputs": [
    {
     "data": {
      "text/plain": [
       "'basically theres a family where a little boy jake thinks theres a zombie in his closet  his parents are fighting all the timethis movie is slower than a soap opera and suddenly jake decides to become rambo and kill the zombieok first of all when youre going to make a film you must decide if its a thriller or a drama as a drama the movie is watchable parents are divorcing  arguing like in real life and then we have jake with his closet which totally ruins all the film i expected to see a boogeyman similar movie and instead i watched a drama with some meaningless thriller spots3 out of 10 just for the well playing parents  descent dialogs as for the shots with jake just ignore them'"
      ]
     },
     "execution_count": 26,
     "metadata": {},
     "output_type": "execute_result"
    }
   ],
   "execution_count": 26
  },
  {
   "metadata": {},
   "cell_type": "markdown",
   "source": "# Spelling correction",
   "id": "289766b47d1733db"
  },
  {
   "metadata": {
    "ExecuteTime": {
     "end_time": "2024-09-07T10:42:25.873376Z",
     "start_time": "2024-09-07T10:42:25.731588Z"
    }
   },
   "cell_type": "code",
   "source": [
    "from symspellpy import Verbosity, SymSpell\n",
    "\n",
    "def correct_spell(sentence):\n",
    "    \n",
    "    words= sentence.split()\n",
    "    corrected_word = []\n",
    "    \n",
    "    for word in words:\n",
    "        suggestions = sym_spell.lookup(word,Verbosity.CLOSEST,max_edit_distance = 2)\n",
    "        #if word has any suggestion for correction\n",
    "        if suggestions:\n",
    "            corrected_word.append(suggestions[0].term)\n",
    "        else:\n",
    "            corrected_word.append(word)\n",
    "    # making sentence again\n",
    "    return ' '.join(corrected_word)\n",
    "\n",
    "sym_spell = SymSpell(max_dictionary_edit_distance=2,prefix_length=7)\n",
    "sym_spell.load_dictionary(r'C:\\Users\\Asus\\NLP\\twitter sentiment\\symspelling_dict\\frequency_dictionary_en_82_765.txt',term_index=0, count_index= 0)\n"
   ],
   "id": "f1101c1c47332587",
   "outputs": [
    {
     "data": {
      "text/plain": [
       "True"
      ]
     },
     "execution_count": 40,
     "metadata": {},
     "output_type": "execute_result"
    }
   ],
   "execution_count": 40
  },
  {
   "metadata": {
    "ExecuteTime": {
     "end_time": "2024-09-07T10:42:49.352476Z",
     "start_time": "2024-09-07T10:42:35.677616Z"
    }
   },
   "cell_type": "code",
   "source": "df['review']=df['review'].apply(correct_spell)",
   "id": "533eeb5b9ff2baa5",
   "outputs": [],
   "execution_count": 43
  },
  {
   "metadata": {
    "ExecuteTime": {
     "end_time": "2024-09-07T11:05:10.892417Z",
     "start_time": "2024-09-07T11:05:10.887184Z"
    }
   },
   "cell_type": "code",
   "source": "df['review'][3]",
   "id": "b2cac18c62a43cc6",
   "outputs": [
    {
     "data": {
      "text/plain": [
       "'basically theres a family where a little boy jake thinks theres a zombie in his closet his parents are fighting all the timethis movie is slower than a soap opera and suddenly jake decides to become rambo and kill the zombieok first of all when youre going to make a film you must decide if its a thriller or a drama as a drama the movie is watchable parents are divorcing arguing like in real life and then we have jake with his closet which totally ruins all the film i expected to see a boogeyman similar movie and instead i watched a drama with some meaningless thriller spots3 out of 10 just for the well playing parents descent dialogs as for the shots with jake just ignore them'"
      ]
     },
     "execution_count": 45,
     "metadata": {},
     "output_type": "execute_result"
    }
   ],
   "execution_count": 45
  },
  {
   "metadata": {},
   "cell_type": "markdown",
   "source": "# Stop words",
   "id": "c1a7627e31534cc9"
  },
  {
   "metadata": {
    "ExecuteTime": {
     "end_time": "2024-09-07T20:32:37.585174Z",
     "start_time": "2024-09-07T20:32:35.255710Z"
    }
   },
   "cell_type": "code",
   "source": [
    "from nltk.corpus import stopwords\n",
    "\n",
    "stop_words_list = set(stopwords.words('english'))\n",
    "\n",
    "def stop_words(text):\n",
    "    new_text = []\n",
    "    for word in text.split():\n",
    "        if word in stop_words_list:\n",
    "            new_text.append('')\n",
    "        else:\n",
    "            new_text.append(word)\n",
    "            \n",
    "    return \" \".join(new_text)\n",
    "\n",
    "df['review']=df['review'].apply(stop_words)"
   ],
   "id": "3000bf664353c873",
   "outputs": [],
   "execution_count": 79
  },
  {
   "metadata": {
    "ExecuteTime": {
     "end_time": "2024-09-07T20:31:38.849887Z",
     "start_time": "2024-09-07T20:31:38.845518Z"
    }
   },
   "cell_type": "code",
   "source": "",
   "id": "f26de494d26d59ec",
   "outputs": [
    {
     "data": {
      "text/plain": [
       "'petter matteis love in the time of money is a visually stunning film to watch mr mattei offers us a vivid portrait about human relations this is a movie that seems to be telling us what money power and success do to people in the different situations we encounter this being a variation on the arthur schnitzlers play about the same theme the director transfers the action to the present time new york where all these different characters meet and connect each one is connected in one way or another to the next person but no one seems to know the previous point of contact stylishly the film has a sophisticated luxurious look we are taken to see how these people live and the world they live in their own habitatthe only thing one gets out of all these souls in the picture is the different stages of loneliness each one inhabits a big city is not exactly the best place in which human relations find sincere fulfillment as one discerns is the case with most of the people we encounterthe acting is good under mr matteis direction steve buscemi rosario dawson carol kane michael imperioli adrian grenier and the rest of the talented cast make these characters come alivewe wish mr mattei good luck and await anxiously for his next work'"
      ]
     },
     "execution_count": 78,
     "metadata": {},
     "output_type": "execute_result"
    }
   ],
   "execution_count": 78
  },
  {
   "metadata": {},
   "cell_type": "code",
   "outputs": [],
   "execution_count": null,
   "source": "",
   "id": "2b217a9ceb9d7c3b"
  }
 ],
 "metadata": {
  "kernelspec": {
   "display_name": "Python 3",
   "language": "python",
   "name": "python3"
  },
  "language_info": {
   "codemirror_mode": {
    "name": "ipython",
    "version": 2
   },
   "file_extension": ".py",
   "mimetype": "text/x-python",
   "name": "python",
   "nbconvert_exporter": "python",
   "pygments_lexer": "ipython2",
   "version": "2.7.6"
  }
 },
 "nbformat": 4,
 "nbformat_minor": 5
}
