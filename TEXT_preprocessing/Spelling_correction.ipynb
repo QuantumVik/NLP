{
 "cells": [
  {
   "cell_type": "code",
   "id": "initial_id",
   "metadata": {
    "collapsed": true,
    "ExecuteTime": {
     "end_time": "2024-09-07T11:03:35.126550Z",
     "start_time": "2024-09-07T11:03:35.122837Z"
    }
   },
   "source": [
    "import pandas as pd\n",
    "import string\n",
    "import re\n",
    "\n",
    "# #from attr.filters import exclude\n",
    "# from gradio.themes.builder_app import suggestions\n",
    "# from tensorflow_io.python.ops.bigtable.bigtable_row_range import prefix\n"
   ],
   "outputs": [],
   "execution_count": 36
  },
  {
   "metadata": {
    "ExecuteTime": {
     "end_time": "2024-09-07T11:03:37.282320Z",
     "start_time": "2024-09-07T11:03:36.651138Z"
    }
   },
   "cell_type": "code",
   "source": "df = pd.read_csv(r\"C:\\Users\\Asus\\NLP\\IMDB Dataset.csv\\IMDB Dataset.csv\")",
   "id": "5a800d983256b6f8",
   "outputs": [],
   "execution_count": 37
  },
  {
   "metadata": {
    "ExecuteTime": {
     "end_time": "2024-09-07T11:03:37.371095Z",
     "start_time": "2024-09-07T11:03:37.364921Z"
    }
   },
   "cell_type": "code",
   "source": "df.head()",
   "id": "20243c1d0c90ba00",
   "outputs": [
    {
     "data": {
      "text/plain": [
       "                                              review sentiment\n",
       "0  One of the other reviewers has mentioned that ...  positive\n",
       "1  A wonderful little production. <br /><br />The...  positive\n",
       "2  I thought this was a wonderful way to spend ti...  positive\n",
       "3  Basically there's a family where a little boy ...  negative\n",
       "4  Petter Mattei's \"Love in the Time of Money\" is...  positive"
      ],
      "text/html": [
       "<div>\n",
       "<style scoped>\n",
       "    .dataframe tbody tr th:only-of-type {\n",
       "        vertical-align: middle;\n",
       "    }\n",
       "\n",
       "    .dataframe tbody tr th {\n",
       "        vertical-align: top;\n",
       "    }\n",
       "\n",
       "    .dataframe thead th {\n",
       "        text-align: right;\n",
       "    }\n",
       "</style>\n",
       "<table border=\"1\" class=\"dataframe\">\n",
       "  <thead>\n",
       "    <tr style=\"text-align: right;\">\n",
       "      <th></th>\n",
       "      <th>review</th>\n",
       "      <th>sentiment</th>\n",
       "    </tr>\n",
       "  </thead>\n",
       "  <tbody>\n",
       "    <tr>\n",
       "      <th>0</th>\n",
       "      <td>One of the other reviewers has mentioned that ...</td>\n",
       "      <td>positive</td>\n",
       "    </tr>\n",
       "    <tr>\n",
       "      <th>1</th>\n",
       "      <td>A wonderful little production. &lt;br /&gt;&lt;br /&gt;The...</td>\n",
       "      <td>positive</td>\n",
       "    </tr>\n",
       "    <tr>\n",
       "      <th>2</th>\n",
       "      <td>I thought this was a wonderful way to spend ti...</td>\n",
       "      <td>positive</td>\n",
       "    </tr>\n",
       "    <tr>\n",
       "      <th>3</th>\n",
       "      <td>Basically there's a family where a little boy ...</td>\n",
       "      <td>negative</td>\n",
       "    </tr>\n",
       "    <tr>\n",
       "      <th>4</th>\n",
       "      <td>Petter Mattei's \"Love in the Time of Money\" is...</td>\n",
       "      <td>positive</td>\n",
       "    </tr>\n",
       "  </tbody>\n",
       "</table>\n",
       "</div>"
      ]
     },
     "execution_count": 38,
     "metadata": {},
     "output_type": "execute_result"
    }
   ],
   "execution_count": 38
  },
  {
   "metadata": {
    "ExecuteTime": {
     "end_time": "2024-09-07T11:03:38.039694Z",
     "start_time": "2024-09-07T11:03:37.904695Z"
    }
   },
   "cell_type": "code",
   "source": "df['review'] = df['review'].str.lower()",
   "id": "8ecd9e4b32729fa6",
   "outputs": [],
   "execution_count": 39
  },
  {
   "metadata": {
    "ExecuteTime": {
     "end_time": "2024-09-07T11:03:38.288442Z",
     "start_time": "2024-09-07T11:03:38.282073Z"
    }
   },
   "cell_type": "code",
   "source": [
    "def text_to_dict(filename, delimiter='='):\n",
    "    my_dict = {}\n",
    "    \n",
    "    with open(filename, 'r') as file:\n",
    "        for line in file:\n",
    "            # Strip leading/trailing whitespace and split by the delimiter\n",
    "            parts = line.strip().split(delimiter)\n",
    "            \n",
    "            # Check if we have exactly two parts after splitting\n",
    "            if len(parts) == 2:\n",
    "                key = parts[0].strip()\n",
    "                value = parts[1].strip()\n",
    "                my_dict[key] = value\n",
    "    \n",
    "    return my_dict\n",
    "\n",
    "filename = r'C:\\Users\\Asus\\NLP\\IMDB Dataset.csv\\slang.txt'\n",
    "chat_words_dict = text_to_dict(filename)\n"
   ],
   "id": "66f0d5aa8063049",
   "outputs": [],
   "execution_count": 40
  },
  {
   "metadata": {
    "ExecuteTime": {
     "end_time": "2024-09-07T11:03:38.711078Z",
     "start_time": "2024-09-07T11:03:38.708587Z"
    }
   },
   "cell_type": "code",
   "source": "",
   "id": "f8e92e537d5c198f",
   "outputs": [],
   "execution_count": null
  },
  {
   "metadata": {
    "ExecuteTime": {
     "end_time": "2024-09-07T11:03:39.125315Z",
     "start_time": "2024-09-07T11:03:39.120757Z"
    }
   },
   "cell_type": "code",
   "source": [
    "def remove_urls(text):\n",
    "    pattern = re.compile(r'https?://\\S+|www\\.\\S+.*?>')\n",
    "    return pattern.sub(r'',text)\n",
    "\n",
    "def remove_html(text):\n",
    "    pattern = re.compile(r'<.*?>')\n",
    "    return pattern.sub(r'',text)\n",
    "\n",
    "exclude = string.punctuation\n",
    "def remove_punctuation(text):\n",
    "    return text.translate(str.maketrans('','',exclude))\n",
    "\n",
    "def chat_word_treatment(text):\n",
    "    arr = []\n",
    "    for i in text.split():\n",
    "        if i.upper() in chat_words_dict:\n",
    "            arr.append(chat_words_dict[i.upper()])\n",
    "        else:\n",
    "            arr.append(i)\n",
    "            \n",
    "    return \" \".join(arr)\n"
   ],
   "id": "5d93643774640803",
   "outputs": [],
   "execution_count": 41
  },
  {
   "metadata": {
    "ExecuteTime": {
     "end_time": "2024-09-07T11:03:39.856256Z",
     "start_time": "2024-09-07T11:03:39.690497Z"
    }
   },
   "cell_type": "code",
   "source": [
    "def all_function(x):\n",
    "    for func in function:\n",
    "        x= func(x)\n",
    "        return x\n",
    "\n",
    "function = [remove_html,remove_urls,remove_punctuation,chat_word_treatment]\n",
    "df['review']=df['review'].apply(all_function)"
   ],
   "id": "5a3a9b6fef7c6e03",
   "outputs": [],
   "execution_count": 42
  },
  {
   "metadata": {
    "ExecuteTime": {
     "end_time": "2024-09-07T11:03:40.177746Z",
     "start_time": "2024-09-07T11:03:40.164785Z"
    }
   },
   "cell_type": "code",
   "source": "df.sample(5)",
   "id": "b2954b2297bd542",
   "outputs": [
    {
     "data": {
      "text/plain": [
       "                                                  review sentiment\n",
       "18814  i wasn't sure when i heard about this coming o...  positive\n",
       "20324  terrible. absolutely terrible. long, confusing...  negative\n",
       "17068  i love this movie, jouvet, arletty, blier, car...  positive\n",
       "40330  i waited a long time to finally see what i tho...  negative\n",
       "34056  this movie was one of the worst i have ever se...  negative"
      ],
      "text/html": [
       "<div>\n",
       "<style scoped>\n",
       "    .dataframe tbody tr th:only-of-type {\n",
       "        vertical-align: middle;\n",
       "    }\n",
       "\n",
       "    .dataframe tbody tr th {\n",
       "        vertical-align: top;\n",
       "    }\n",
       "\n",
       "    .dataframe thead th {\n",
       "        text-align: right;\n",
       "    }\n",
       "</style>\n",
       "<table border=\"1\" class=\"dataframe\">\n",
       "  <thead>\n",
       "    <tr style=\"text-align: right;\">\n",
       "      <th></th>\n",
       "      <th>review</th>\n",
       "      <th>sentiment</th>\n",
       "    </tr>\n",
       "  </thead>\n",
       "  <tbody>\n",
       "    <tr>\n",
       "      <th>18814</th>\n",
       "      <td>i wasn't sure when i heard about this coming o...</td>\n",
       "      <td>positive</td>\n",
       "    </tr>\n",
       "    <tr>\n",
       "      <th>20324</th>\n",
       "      <td>terrible. absolutely terrible. long, confusing...</td>\n",
       "      <td>negative</td>\n",
       "    </tr>\n",
       "    <tr>\n",
       "      <th>17068</th>\n",
       "      <td>i love this movie, jouvet, arletty, blier, car...</td>\n",
       "      <td>positive</td>\n",
       "    </tr>\n",
       "    <tr>\n",
       "      <th>40330</th>\n",
       "      <td>i waited a long time to finally see what i tho...</td>\n",
       "      <td>negative</td>\n",
       "    </tr>\n",
       "    <tr>\n",
       "      <th>34056</th>\n",
       "      <td>this movie was one of the worst i have ever se...</td>\n",
       "      <td>negative</td>\n",
       "    </tr>\n",
       "  </tbody>\n",
       "</table>\n",
       "</div>"
      ]
     },
     "execution_count": 43,
     "metadata": {},
     "output_type": "execute_result"
    }
   ],
   "execution_count": 43
  },
  {
   "metadata": {},
   "cell_type": "markdown",
   "source": "# symspell (libabry) used for spelling correction!!!",
   "id": "2aeec73b995660a0"
  },
  {
   "metadata": {
    "ExecuteTime": {
     "end_time": "2024-09-07T11:03:42.764609Z",
     "start_time": "2024-09-07T11:03:42.654708Z"
    }
   },
   "cell_type": "code",
   "source": [
    "from symspellpy import SymSpell, Verbosity\n",
    "\n",
    "sym_spell = SymSpell(max_dictionary_edit_distance=2,prefix_length=7)\n",
    "sym_spell.load_dictionary(r\"C:\\Users\\Asus\\NLP\\twitter sentiment\\symspelling_dict\\frequency_dictionary_en_82_765.txt\",term_index=0,count_index=0)\n",
    "\n",
    "def correct_spell(sentence):\n",
    "    words = sentence.split()\n",
    "    \n",
    "    corrected = []\n",
    "    \n",
    "    for word in words:\n",
    "        \n",
    "        suggestions = sym_spell.lookup(word,Verbosity.CLOSEST,max_edit_distance= 2)\n",
    "        \n",
    "        if suggestions:\n",
    "            corrected.append(suggestions[0].term)\n",
    "        else:\n",
    "            corrected.append(word)\n",
    "            \n",
    "    return ' '.join(corrected)"
   ],
   "id": "31ae6b37bbcfb643",
   "outputs": [],
   "execution_count": 44
  },
  {
   "metadata": {
    "ExecuteTime": {
     "end_time": "2024-09-07T11:03:57.134109Z",
     "start_time": "2024-09-07T11:03:43.731176Z"
    }
   },
   "cell_type": "code",
   "source": "df['review']=df['review'].apply(correct_spell)",
   "id": "86249d9bf8cdd894",
   "outputs": [],
   "execution_count": 45
  },
  {
   "metadata": {
    "ExecuteTime": {
     "end_time": "2024-09-07T11:03:59.080442Z",
     "start_time": "2024-09-07T11:03:59.074120Z"
    }
   },
   "cell_type": "code",
   "source": "df.head()",
   "id": "7cf1d1faaa752313",
   "outputs": [
    {
     "data": {
      "text/plain": [
       "                                              review sentiment\n",
       "0  one of the other reviewers has mentioned that ...  positive\n",
       "1  a wonderful little production. the filming tec...  positive\n",
       "2  i thought this was a wonderful way to spend ti...  positive\n",
       "3  basically there's a family where a little boy ...  negative\n",
       "4  petter mattei's \"love in the time of money\" is...  positive"
      ],
      "text/html": [
       "<div>\n",
       "<style scoped>\n",
       "    .dataframe tbody tr th:only-of-type {\n",
       "        vertical-align: middle;\n",
       "    }\n",
       "\n",
       "    .dataframe tbody tr th {\n",
       "        vertical-align: top;\n",
       "    }\n",
       "\n",
       "    .dataframe thead th {\n",
       "        text-align: right;\n",
       "    }\n",
       "</style>\n",
       "<table border=\"1\" class=\"dataframe\">\n",
       "  <thead>\n",
       "    <tr style=\"text-align: right;\">\n",
       "      <th></th>\n",
       "      <th>review</th>\n",
       "      <th>sentiment</th>\n",
       "    </tr>\n",
       "  </thead>\n",
       "  <tbody>\n",
       "    <tr>\n",
       "      <th>0</th>\n",
       "      <td>one of the other reviewers has mentioned that ...</td>\n",
       "      <td>positive</td>\n",
       "    </tr>\n",
       "    <tr>\n",
       "      <th>1</th>\n",
       "      <td>a wonderful little production. the filming tec...</td>\n",
       "      <td>positive</td>\n",
       "    </tr>\n",
       "    <tr>\n",
       "      <th>2</th>\n",
       "      <td>i thought this was a wonderful way to spend ti...</td>\n",
       "      <td>positive</td>\n",
       "    </tr>\n",
       "    <tr>\n",
       "      <th>3</th>\n",
       "      <td>basically there's a family where a little boy ...</td>\n",
       "      <td>negative</td>\n",
       "    </tr>\n",
       "    <tr>\n",
       "      <th>4</th>\n",
       "      <td>petter mattei's \"love in the time of money\" is...</td>\n",
       "      <td>positive</td>\n",
       "    </tr>\n",
       "  </tbody>\n",
       "</table>\n",
       "</div>"
      ]
     },
     "execution_count": 46,
     "metadata": {},
     "output_type": "execute_result"
    }
   ],
   "execution_count": 46
  },
  {
   "metadata": {},
   "cell_type": "code",
   "outputs": [],
   "execution_count": null,
   "source": "",
   "id": "2067980d851565ac"
  }
 ],
 "metadata": {
  "kernelspec": {
   "display_name": "Python 3",
   "language": "python",
   "name": "python3"
  },
  "language_info": {
   "codemirror_mode": {
    "name": "ipython",
    "version": 2
   },
   "file_extension": ".py",
   "mimetype": "text/x-python",
   "name": "python",
   "nbconvert_exporter": "python",
   "pygments_lexer": "ipython2",
   "version": "2.7.6"
  }
 },
 "nbformat": 4,
 "nbformat_minor": 5
}
