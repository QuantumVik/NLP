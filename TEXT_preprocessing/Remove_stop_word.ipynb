{
 "cells": [
  {
   "cell_type": "code",
   "id": "initial_id",
   "metadata": {
    "collapsed": true,
    "ExecuteTime": {
     "end_time": "2024-09-07T16:07:55.320142Z",
     "start_time": "2024-09-07T16:07:53.494160Z"
    }
   },
   "source": [
    "import pandas as pd\n",
    "import string\n",
    "import re\n",
    "\n",
    "# #from attr.filters import exclude\n",
    "# from gradio.themes.builder_app import suggestions\n",
    "# from tensorflow_io.python.ops.bigtable.bigtable_row_range import prefix\n"
   ],
   "outputs": [],
   "execution_count": 7
  },
  {
   "metadata": {
    "ExecuteTime": {
     "end_time": "2024-09-07T16:07:55.915196Z",
     "start_time": "2024-09-07T16:07:55.323445Z"
    }
   },
   "cell_type": "code",
   "source": "df = pd.read_csv(r\"C:\\Users\\Asus\\NLP\\IMDB Dataset.csv\\IMDB Dataset.csv\")",
   "id": "5a800d983256b6f8",
   "outputs": [],
   "execution_count": 8
  },
  {
   "metadata": {
    "ExecuteTime": {
     "end_time": "2024-09-07T16:07:55.944198Z",
     "start_time": "2024-09-07T16:07:55.934764Z"
    }
   },
   "cell_type": "code",
   "source": "df.head()",
   "id": "20243c1d0c90ba00",
   "outputs": [
    {
     "data": {
      "text/plain": [
       "                                              review sentiment\n",
       "0  One of the other reviewers has mentioned that ...  positive\n",
       "1  A wonderful little production. <br /><br />The...  positive\n",
       "2  I thought this was a wonderful way to spend ti...  positive\n",
       "3  Basically there's a family where a little boy ...  negative\n",
       "4  Petter Mattei's \"Love in the Time of Money\" is...  positive"
      ],
      "text/html": [
       "<div>\n",
       "<style scoped>\n",
       "    .dataframe tbody tr th:only-of-type {\n",
       "        vertical-align: middle;\n",
       "    }\n",
       "\n",
       "    .dataframe tbody tr th {\n",
       "        vertical-align: top;\n",
       "    }\n",
       "\n",
       "    .dataframe thead th {\n",
       "        text-align: right;\n",
       "    }\n",
       "</style>\n",
       "<table border=\"1\" class=\"dataframe\">\n",
       "  <thead>\n",
       "    <tr style=\"text-align: right;\">\n",
       "      <th></th>\n",
       "      <th>review</th>\n",
       "      <th>sentiment</th>\n",
       "    </tr>\n",
       "  </thead>\n",
       "  <tbody>\n",
       "    <tr>\n",
       "      <th>0</th>\n",
       "      <td>One of the other reviewers has mentioned that ...</td>\n",
       "      <td>positive</td>\n",
       "    </tr>\n",
       "    <tr>\n",
       "      <th>1</th>\n",
       "      <td>A wonderful little production. &lt;br /&gt;&lt;br /&gt;The...</td>\n",
       "      <td>positive</td>\n",
       "    </tr>\n",
       "    <tr>\n",
       "      <th>2</th>\n",
       "      <td>I thought this was a wonderful way to spend ti...</td>\n",
       "      <td>positive</td>\n",
       "    </tr>\n",
       "    <tr>\n",
       "      <th>3</th>\n",
       "      <td>Basically there's a family where a little boy ...</td>\n",
       "      <td>negative</td>\n",
       "    </tr>\n",
       "    <tr>\n",
       "      <th>4</th>\n",
       "      <td>Petter Mattei's \"Love in the Time of Money\" is...</td>\n",
       "      <td>positive</td>\n",
       "    </tr>\n",
       "  </tbody>\n",
       "</table>\n",
       "</div>"
      ]
     },
     "execution_count": 9,
     "metadata": {},
     "output_type": "execute_result"
    }
   ],
   "execution_count": 9
  },
  {
   "metadata": {
    "ExecuteTime": {
     "end_time": "2024-09-07T16:07:56.119016Z",
     "start_time": "2024-09-07T16:07:55.989574Z"
    }
   },
   "cell_type": "code",
   "source": "df['review'] = df['review'].str.lower()",
   "id": "8ecd9e4b32729fa6",
   "outputs": [],
   "execution_count": 10
  },
  {
   "metadata": {
    "ExecuteTime": {
     "end_time": "2024-09-07T16:07:56.151562Z",
     "start_time": "2024-09-07T16:07:56.146300Z"
    }
   },
   "cell_type": "code",
   "source": [
    "def text_to_dict(filename, delimiter='='):\n",
    "    my_dict = {}\n",
    "    \n",
    "    with open(filename, 'r') as file:\n",
    "        for line in file:\n",
    "            # Strip leading/trailing whitespace and split by the delimiter\n",
    "            parts = line.strip().split(delimiter)\n",
    "            \n",
    "            # Check if we have exactly two parts after splitting\n",
    "            if len(parts) == 2:\n",
    "                key = parts[0].strip()\n",
    "                value = parts[1].strip()\n",
    "                my_dict[key] = value\n",
    "    \n",
    "    return my_dict\n",
    "\n",
    "filename = r'C:\\Users\\Asus\\NLP\\IMDB Dataset.csv\\slang.txt'\n",
    "chat_words_dict = text_to_dict(filename)\n"
   ],
   "id": "66f0d5aa8063049",
   "outputs": [],
   "execution_count": 11
  },
  {
   "metadata": {
    "ExecuteTime": {
     "end_time": "2024-09-07T16:07:56.324611Z",
     "start_time": "2024-09-07T16:07:56.322288Z"
    }
   },
   "cell_type": "code",
   "source": "",
   "id": "f8e92e537d5c198f",
   "outputs": [],
   "execution_count": null
  },
  {
   "metadata": {
    "ExecuteTime": {
     "end_time": "2024-09-07T16:07:56.749803Z",
     "start_time": "2024-09-07T16:07:56.743640Z"
    }
   },
   "cell_type": "code",
   "source": [
    "def remove_urls(text):\n",
    "    pattern = re.compile(r'https?://\\S+|www\\.\\S+.*?>')\n",
    "    return pattern.sub(r'',text)\n",
    "\n",
    "def remove_html(text):\n",
    "    pattern = re.compile(r'<.*?>')\n",
    "    return pattern.sub(r'',text)\n",
    "\n",
    "exclude = string.punctuation\n",
    "def remove_punctuation(text):\n",
    "    return text.translate(str.maketrans('','',exclude))\n",
    "\n",
    "def chat_word_treatment(text):\n",
    "    arr = []\n",
    "    for i in text.split():\n",
    "        if i.upper() in chat_words_dict:\n",
    "            arr.append(chat_words_dict[i.upper()])\n",
    "        else:\n",
    "            arr.append(i)\n",
    "            \n",
    "    return \" \".join(arr)\n"
   ],
   "id": "5d93643774640803",
   "outputs": [],
   "execution_count": 12
  },
  {
   "metadata": {
    "ExecuteTime": {
     "end_time": "2024-09-07T16:07:57.372031Z",
     "start_time": "2024-09-07T16:07:57.201019Z"
    }
   },
   "cell_type": "code",
   "source": [
    "def all_function(x):\n",
    "    for func in function:\n",
    "        x= func(x)\n",
    "        return x\n",
    "\n",
    "function = [remove_html,remove_urls,remove_punctuation,chat_word_treatment]\n",
    "df['review']=df['review'].apply(all_function)"
   ],
   "id": "5a3a9b6fef7c6e03",
   "outputs": [],
   "execution_count": 13
  },
  {
   "metadata": {
    "ExecuteTime": {
     "end_time": "2024-09-07T16:07:59.511913Z",
     "start_time": "2024-09-07T16:07:59.500781Z"
    }
   },
   "cell_type": "code",
   "source": "df.sample(5)",
   "id": "b2954b2297bd542",
   "outputs": [
    {
     "data": {
      "text/plain": [
       "                                                  review sentiment\n",
       "26771  it's a hideous little production, apt to give ...  negative\n",
       "24223  a beautiful reflection of life's desperation a...  positive\n",
       "37528  ok the box look interesting, the opening have ...  negative\n",
       "35862  ... when this movie so well proves that they i...  positive\n",
       "41494  go way back to page ten of this review section...  positive"
      ],
      "text/html": [
       "<div>\n",
       "<style scoped>\n",
       "    .dataframe tbody tr th:only-of-type {\n",
       "        vertical-align: middle;\n",
       "    }\n",
       "\n",
       "    .dataframe tbody tr th {\n",
       "        vertical-align: top;\n",
       "    }\n",
       "\n",
       "    .dataframe thead th {\n",
       "        text-align: right;\n",
       "    }\n",
       "</style>\n",
       "<table border=\"1\" class=\"dataframe\">\n",
       "  <thead>\n",
       "    <tr style=\"text-align: right;\">\n",
       "      <th></th>\n",
       "      <th>review</th>\n",
       "      <th>sentiment</th>\n",
       "    </tr>\n",
       "  </thead>\n",
       "  <tbody>\n",
       "    <tr>\n",
       "      <th>26771</th>\n",
       "      <td>it's a hideous little production, apt to give ...</td>\n",
       "      <td>negative</td>\n",
       "    </tr>\n",
       "    <tr>\n",
       "      <th>24223</th>\n",
       "      <td>a beautiful reflection of life's desperation a...</td>\n",
       "      <td>positive</td>\n",
       "    </tr>\n",
       "    <tr>\n",
       "      <th>37528</th>\n",
       "      <td>ok the box look interesting, the opening have ...</td>\n",
       "      <td>negative</td>\n",
       "    </tr>\n",
       "    <tr>\n",
       "      <th>35862</th>\n",
       "      <td>... when this movie so well proves that they i...</td>\n",
       "      <td>positive</td>\n",
       "    </tr>\n",
       "    <tr>\n",
       "      <th>41494</th>\n",
       "      <td>go way back to page ten of this review section...</td>\n",
       "      <td>positive</td>\n",
       "    </tr>\n",
       "  </tbody>\n",
       "</table>\n",
       "</div>"
      ]
     },
     "execution_count": 14,
     "metadata": {},
     "output_type": "execute_result"
    }
   ],
   "execution_count": 14
  },
  {
   "metadata": {},
   "cell_type": "markdown",
   "source": "# symspell (libabry) used for spelling correction!!!",
   "id": "2aeec73b995660a0"
  },
  {
   "metadata": {
    "ExecuteTime": {
     "end_time": "2024-09-07T16:08:01.155394Z",
     "start_time": "2024-09-07T16:08:01.027218Z"
    }
   },
   "cell_type": "code",
   "source": [
    "from symspellpy import SymSpell, Verbosity\n",
    "\n",
    "sym_spell = SymSpell(max_dictionary_edit_distance=2,prefix_length=7)\n",
    "sym_spell.load_dictionary(r\"C:\\Users\\Asus\\NLP\\twitter sentiment\\symspelling_dict\\frequency_dictionary_en_82_765.txt\",term_index=0,count_index=0)\n",
    "\n",
    "def correct_spell(sentence):\n",
    "    words = sentence.split()\n",
    "    \n",
    "    corrected = []\n",
    "    \n",
    "    for word in words:\n",
    "        \n",
    "        suggestions = sym_spell.lookup(word,Verbosity.CLOSEST,max_edit_distance= 2)\n",
    "        \n",
    "        if suggestions:\n",
    "            corrected.append(suggestions[0].term)\n",
    "        else:\n",
    "            corrected.append(word)\n",
    "            \n",
    "    return ' '.join(corrected)"
   ],
   "id": "31ae6b37bbcfb643",
   "outputs": [],
   "execution_count": 15
  },
  {
   "metadata": {
    "ExecuteTime": {
     "end_time": "2024-09-07T16:08:14.967468Z",
     "start_time": "2024-09-07T16:08:01.584205Z"
    }
   },
   "cell_type": "code",
   "source": "df['review']=df['review'].apply(correct_spell)",
   "id": "86249d9bf8cdd894",
   "outputs": [],
   "execution_count": 16
  },
  {
   "metadata": {
    "ExecuteTime": {
     "end_time": "2024-09-07T16:08:14.981278Z",
     "start_time": "2024-09-07T16:08:14.974648Z"
    }
   },
   "cell_type": "code",
   "source": "df.head()",
   "id": "7cf1d1faaa752313",
   "outputs": [
    {
     "data": {
      "text/plain": [
       "                                              review sentiment\n",
       "0  one of the other reviewers has mentioned that ...  positive\n",
       "1  a wonderful little production. the filming tec...  positive\n",
       "2  i thought this was a wonderful way to spend ti...  positive\n",
       "3  basically there's a family where a little boy ...  negative\n",
       "4  petter mattei's \"love in the time of money\" is...  positive"
      ],
      "text/html": [
       "<div>\n",
       "<style scoped>\n",
       "    .dataframe tbody tr th:only-of-type {\n",
       "        vertical-align: middle;\n",
       "    }\n",
       "\n",
       "    .dataframe tbody tr th {\n",
       "        vertical-align: top;\n",
       "    }\n",
       "\n",
       "    .dataframe thead th {\n",
       "        text-align: right;\n",
       "    }\n",
       "</style>\n",
       "<table border=\"1\" class=\"dataframe\">\n",
       "  <thead>\n",
       "    <tr style=\"text-align: right;\">\n",
       "      <th></th>\n",
       "      <th>review</th>\n",
       "      <th>sentiment</th>\n",
       "    </tr>\n",
       "  </thead>\n",
       "  <tbody>\n",
       "    <tr>\n",
       "      <th>0</th>\n",
       "      <td>one of the other reviewers has mentioned that ...</td>\n",
       "      <td>positive</td>\n",
       "    </tr>\n",
       "    <tr>\n",
       "      <th>1</th>\n",
       "      <td>a wonderful little production. the filming tec...</td>\n",
       "      <td>positive</td>\n",
       "    </tr>\n",
       "    <tr>\n",
       "      <th>2</th>\n",
       "      <td>i thought this was a wonderful way to spend ti...</td>\n",
       "      <td>positive</td>\n",
       "    </tr>\n",
       "    <tr>\n",
       "      <th>3</th>\n",
       "      <td>basically there's a family where a little boy ...</td>\n",
       "      <td>negative</td>\n",
       "    </tr>\n",
       "    <tr>\n",
       "      <th>4</th>\n",
       "      <td>petter mattei's \"love in the time of money\" is...</td>\n",
       "      <td>positive</td>\n",
       "    </tr>\n",
       "  </tbody>\n",
       "</table>\n",
       "</div>"
      ]
     },
     "execution_count": 17,
     "metadata": {},
     "output_type": "execute_result"
    }
   ],
   "execution_count": 17
  },
  {
   "metadata": {},
   "cell_type": "markdown",
   "source": "# Stop words",
   "id": "408bc16614bb1182"
  },
  {
   "metadata": {
    "ExecuteTime": {
     "end_time": "2024-09-07T17:01:54.099539Z",
     "start_time": "2024-09-07T17:01:51.007035Z"
    }
   },
   "cell_type": "code",
   "source": [
    "import nltk\n",
    "# nltk.download(\"stopwords\")\n",
    "from nltk.corpus import stopwords"
   ],
   "id": "bf728a0524c8eea3",
   "outputs": [
    {
     "name": "stderr",
     "output_type": "stream",
     "text": [
      "[nltk_data] Downloading package stopwords to\n",
      "[nltk_data]     C:\\Users\\Asus\\AppData\\Roaming\\nltk_data...\n",
      "[nltk_data]   Package stopwords is already up-to-date!\n"
     ]
    }
   ],
   "execution_count": 46
  },
  {
   "metadata": {
    "ExecuteTime": {
     "end_time": "2024-09-07T17:02:07.477845Z",
     "start_time": "2024-09-07T17:02:07.470482Z"
    }
   },
   "cell_type": "code",
   "source": "set(stopwords.words('english'))",
   "id": "6158be0a2cad9f69",
   "outputs": [
    {
     "data": {
      "text/plain": [
       "{'a',\n",
       " 'about',\n",
       " 'above',\n",
       " 'after',\n",
       " 'again',\n",
       " 'against',\n",
       " 'ain',\n",
       " 'all',\n",
       " 'am',\n",
       " 'an',\n",
       " 'and',\n",
       " 'any',\n",
       " 'are',\n",
       " 'aren',\n",
       " \"aren't\",\n",
       " 'as',\n",
       " 'at',\n",
       " 'be',\n",
       " 'because',\n",
       " 'been',\n",
       " 'before',\n",
       " 'being',\n",
       " 'below',\n",
       " 'between',\n",
       " 'both',\n",
       " 'but',\n",
       " 'by',\n",
       " 'can',\n",
       " 'couldn',\n",
       " \"couldn't\",\n",
       " 'd',\n",
       " 'did',\n",
       " 'didn',\n",
       " \"didn't\",\n",
       " 'do',\n",
       " 'does',\n",
       " 'doesn',\n",
       " \"doesn't\",\n",
       " 'doing',\n",
       " 'don',\n",
       " \"don't\",\n",
       " 'down',\n",
       " 'during',\n",
       " 'each',\n",
       " 'few',\n",
       " 'for',\n",
       " 'from',\n",
       " 'further',\n",
       " 'had',\n",
       " 'hadn',\n",
       " \"hadn't\",\n",
       " 'has',\n",
       " 'hasn',\n",
       " \"hasn't\",\n",
       " 'have',\n",
       " 'haven',\n",
       " \"haven't\",\n",
       " 'having',\n",
       " 'he',\n",
       " 'her',\n",
       " 'here',\n",
       " 'hers',\n",
       " 'herself',\n",
       " 'him',\n",
       " 'himself',\n",
       " 'his',\n",
       " 'how',\n",
       " 'i',\n",
       " 'if',\n",
       " 'in',\n",
       " 'into',\n",
       " 'is',\n",
       " 'isn',\n",
       " \"isn't\",\n",
       " 'it',\n",
       " \"it's\",\n",
       " 'its',\n",
       " 'itself',\n",
       " 'just',\n",
       " 'll',\n",
       " 'm',\n",
       " 'ma',\n",
       " 'me',\n",
       " 'mightn',\n",
       " \"mightn't\",\n",
       " 'more',\n",
       " 'most',\n",
       " 'mustn',\n",
       " \"mustn't\",\n",
       " 'my',\n",
       " 'myself',\n",
       " 'needn',\n",
       " \"needn't\",\n",
       " 'no',\n",
       " 'nor',\n",
       " 'not',\n",
       " 'now',\n",
       " 'o',\n",
       " 'of',\n",
       " 'off',\n",
       " 'on',\n",
       " 'once',\n",
       " 'only',\n",
       " 'or',\n",
       " 'other',\n",
       " 'our',\n",
       " 'ours',\n",
       " 'ourselves',\n",
       " 'out',\n",
       " 'over',\n",
       " 'own',\n",
       " 're',\n",
       " 's',\n",
       " 'same',\n",
       " 'shan',\n",
       " \"shan't\",\n",
       " 'she',\n",
       " \"she's\",\n",
       " 'should',\n",
       " \"should've\",\n",
       " 'shouldn',\n",
       " \"shouldn't\",\n",
       " 'so',\n",
       " 'some',\n",
       " 'such',\n",
       " 't',\n",
       " 'than',\n",
       " 'that',\n",
       " \"that'll\",\n",
       " 'the',\n",
       " 'their',\n",
       " 'theirs',\n",
       " 'them',\n",
       " 'themselves',\n",
       " 'then',\n",
       " 'there',\n",
       " 'these',\n",
       " 'they',\n",
       " 'this',\n",
       " 'those',\n",
       " 'through',\n",
       " 'to',\n",
       " 'too',\n",
       " 'under',\n",
       " 'until',\n",
       " 'up',\n",
       " 've',\n",
       " 'very',\n",
       " 'was',\n",
       " 'wasn',\n",
       " \"wasn't\",\n",
       " 'we',\n",
       " 'were',\n",
       " 'weren',\n",
       " \"weren't\",\n",
       " 'what',\n",
       " 'when',\n",
       " 'where',\n",
       " 'which',\n",
       " 'while',\n",
       " 'who',\n",
       " 'whom',\n",
       " 'why',\n",
       " 'will',\n",
       " 'with',\n",
       " 'won',\n",
       " \"won't\",\n",
       " 'wouldn',\n",
       " \"wouldn't\",\n",
       " 'y',\n",
       " 'you',\n",
       " \"you'd\",\n",
       " \"you'll\",\n",
       " \"you're\",\n",
       " \"you've\",\n",
       " 'your',\n",
       " 'yours',\n",
       " 'yourself',\n",
       " 'yourselves'}"
      ]
     },
     "execution_count": 47,
     "metadata": {},
     "output_type": "execute_result"
    }
   ],
   "execution_count": 47
  },
  {
   "metadata": {
    "ExecuteTime": {
     "end_time": "2024-09-07T17:06:01.440227Z",
     "start_time": "2024-09-07T17:06:00.464206Z"
    }
   },
   "cell_type": "code",
   "source": [
    "\n",
    "stop_words_list = set(stopwords.words('english'))\n",
    "def stop_words(texts):\n",
    "    \n",
    "    new_text=[]\n",
    "    for word in texts.split():\n",
    "        if word in stop_words_list:\n",
    "            new_text.append('')\n",
    "        else:\n",
    "            new_text.append(word)\n",
    "    return \" \".join(new_text)\n",
    "\n",
    "df['review']=df['review'].apply(stop_words)\n",
    "      "
   ],
   "id": "4c325f340948f977",
   "outputs": [],
   "execution_count": 52
  },
  {
   "metadata": {
    "ExecuteTime": {
     "end_time": "2024-09-07T17:02:20.656739Z",
     "start_time": "2024-09-07T17:02:19.744615Z"
    }
   },
   "cell_type": "code",
   "source": "",
   "id": "d0d46369ae9081dc",
   "outputs": [],
   "execution_count": 49
  },
  {
   "metadata": {
    "ExecuteTime": {
     "end_time": "2024-09-07T17:02:08.147235Z",
     "start_time": "2024-09-07T17:02:08.144545Z"
    }
   },
   "cell_type": "code",
   "source": "",
   "id": "9bf224486316423b",
   "outputs": [],
   "execution_count": null
  },
  {
   "metadata": {
    "ExecuteTime": {
     "end_time": "2024-09-07T17:02:08.391015Z",
     "start_time": "2024-09-07T17:02:08.388169Z"
    }
   },
   "cell_type": "code",
   "source": "",
   "id": "da1ddab46ed652c1",
   "outputs": [],
   "execution_count": null
  },
  {
   "metadata": {
    "ExecuteTime": {
     "end_time": "2024-09-07T17:02:09.134100Z",
     "start_time": "2024-09-07T17:02:09.131210Z"
    }
   },
   "cell_type": "code",
   "source": "",
   "id": "b1066dc49755fb40",
   "outputs": [],
   "execution_count": null
  },
  {
   "metadata": {
    "ExecuteTime": {
     "end_time": "2024-09-07T17:02:09.651027Z",
     "start_time": "2024-09-07T17:02:09.648265Z"
    }
   },
   "cell_type": "code",
   "source": "",
   "id": "408a5cf7f2481de0",
   "outputs": [],
   "execution_count": null
  },
  {
   "metadata": {
    "ExecuteTime": {
     "end_time": "2024-09-07T17:02:09.691182Z",
     "start_time": "2024-09-07T17:02:09.687873Z"
    }
   },
   "cell_type": "code",
   "source": "",
   "id": "874d4b09a328886a",
   "outputs": [],
   "execution_count": null
  },
  {
   "metadata": {
    "ExecuteTime": {
     "end_time": "2024-09-07T17:02:09.730669Z",
     "start_time": "2024-09-07T17:02:09.728047Z"
    }
   },
   "cell_type": "code",
   "source": "",
   "id": "6d2cb7a5f6e9e8f2",
   "outputs": [],
   "execution_count": null
  },
  {
   "metadata": {
    "ExecuteTime": {
     "end_time": "2024-09-07T17:02:09.789070Z",
     "start_time": "2024-09-07T17:02:09.786838Z"
    }
   },
   "cell_type": "code",
   "source": "",
   "id": "f3a828cc7a50831c",
   "outputs": [],
   "execution_count": null
  },
  {
   "metadata": {
    "ExecuteTime": {
     "end_time": "2024-09-07T17:02:09.829219Z",
     "start_time": "2024-09-07T17:02:09.826386Z"
    }
   },
   "cell_type": "code",
   "source": "",
   "id": "19e02009950c80ba",
   "outputs": [],
   "execution_count": null
  },
  {
   "metadata": {
    "ExecuteTime": {
     "end_time": "2024-09-07T17:02:09.839118Z",
     "start_time": "2024-09-07T17:02:09.836469Z"
    }
   },
   "cell_type": "code",
   "source": "",
   "id": "4dbe3c36b92a8384",
   "outputs": [],
   "execution_count": null
  },
  {
   "metadata": {
    "ExecuteTime": {
     "end_time": "2024-09-07T17:02:09.855752Z",
     "start_time": "2024-09-07T17:02:09.853039Z"
    }
   },
   "cell_type": "code",
   "source": "",
   "id": "7adcf88e066b0908",
   "outputs": [],
   "execution_count": null
  },
  {
   "metadata": {
    "ExecuteTime": {
     "end_time": "2024-09-07T17:02:09.868821Z",
     "start_time": "2024-09-07T17:02:09.866055Z"
    }
   },
   "cell_type": "code",
   "source": "",
   "id": "8c8a4bff528cad1b",
   "outputs": [],
   "execution_count": null
  },
  {
   "metadata": {
    "ExecuteTime": {
     "end_time": "2024-09-07T17:02:09.881581Z",
     "start_time": "2024-09-07T17:02:09.878656Z"
    }
   },
   "cell_type": "code",
   "source": "",
   "id": "7f60769cc59b3f37",
   "outputs": [],
   "execution_count": null
  },
  {
   "metadata": {
    "ExecuteTime": {
     "end_time": "2024-09-07T17:02:09.894487Z",
     "start_time": "2024-09-07T17:02:09.891791Z"
    }
   },
   "cell_type": "code",
   "source": "",
   "id": "524c1549632aa801",
   "outputs": [],
   "execution_count": null
  },
  {
   "metadata": {
    "ExecuteTime": {
     "end_time": "2024-09-07T17:02:09.906804Z",
     "start_time": "2024-09-07T17:02:09.904169Z"
    }
   },
   "cell_type": "code",
   "source": "",
   "id": "6ffeb5b59fdee94c",
   "outputs": [],
   "execution_count": null
  },
  {
   "metadata": {
    "ExecuteTime": {
     "end_time": "2024-09-07T17:02:09.919285Z",
     "start_time": "2024-09-07T17:02:09.916473Z"
    }
   },
   "cell_type": "code",
   "source": "",
   "id": "ae87f3fcf54d7b95",
   "outputs": [],
   "execution_count": null
  },
  {
   "metadata": {
    "ExecuteTime": {
     "end_time": "2024-09-07T17:02:09.932366Z",
     "start_time": "2024-09-07T17:02:09.929844Z"
    }
   },
   "cell_type": "code",
   "source": "",
   "id": "bbfef3145a42028c",
   "outputs": [],
   "execution_count": null
  },
  {
   "metadata": {
    "ExecuteTime": {
     "end_time": "2024-09-07T17:02:09.945158Z",
     "start_time": "2024-09-07T17:02:09.942458Z"
    }
   },
   "cell_type": "code",
   "source": "",
   "id": "b6fac382af48a3e6",
   "outputs": [],
   "execution_count": null
  },
  {
   "metadata": {
    "ExecuteTime": {
     "end_time": "2024-09-07T17:02:09.956990Z",
     "start_time": "2024-09-07T17:02:09.954415Z"
    }
   },
   "cell_type": "code",
   "source": "",
   "id": "c1901eaa59d4aaf4",
   "outputs": [],
   "execution_count": null
  },
  {
   "metadata": {
    "ExecuteTime": {
     "end_time": "2024-09-07T17:02:09.969486Z",
     "start_time": "2024-09-07T17:02:09.966611Z"
    }
   },
   "cell_type": "code",
   "source": "",
   "id": "4a205f7155688277",
   "outputs": [],
   "execution_count": null
  },
  {
   "metadata": {
    "ExecuteTime": {
     "end_time": "2024-09-07T17:02:09.987530Z",
     "start_time": "2024-09-07T17:02:09.984893Z"
    }
   },
   "cell_type": "code",
   "source": "",
   "id": "c9d07b7a6a39d478",
   "outputs": [],
   "execution_count": null
  },
  {
   "metadata": {
    "ExecuteTime": {
     "end_time": "2024-09-07T17:02:10.054469Z",
     "start_time": "2024-09-07T17:02:10.051983Z"
    }
   },
   "cell_type": "code",
   "source": "",
   "id": "36df4512df54a053",
   "outputs": [],
   "execution_count": null
  },
  {
   "metadata": {
    "ExecuteTime": {
     "end_time": "2024-09-07T17:02:10.075762Z",
     "start_time": "2024-09-07T17:02:10.072772Z"
    }
   },
   "cell_type": "code",
   "source": "",
   "id": "3aee1459c0e4fda1",
   "outputs": [],
   "execution_count": null
  },
  {
   "metadata": {
    "ExecuteTime": {
     "end_time": "2024-09-07T17:02:10.098186Z",
     "start_time": "2024-09-07T17:02:10.095128Z"
    }
   },
   "cell_type": "code",
   "source": "",
   "id": "8f51fba576ac4de7",
   "outputs": [],
   "execution_count": null
  },
  {
   "metadata": {
    "ExecuteTime": {
     "end_time": "2024-09-07T17:02:10.111495Z",
     "start_time": "2024-09-07T17:02:10.109182Z"
    }
   },
   "cell_type": "code",
   "source": "",
   "id": "f2c47fe4d41a63eb",
   "outputs": [],
   "execution_count": null
  },
  {
   "metadata": {
    "ExecuteTime": {
     "end_time": "2024-09-07T17:02:10.124098Z",
     "start_time": "2024-09-07T17:02:10.121407Z"
    }
   },
   "cell_type": "code",
   "source": "",
   "id": "ae6a4aee90d05bc8",
   "outputs": [],
   "execution_count": null
  },
  {
   "metadata": {
    "ExecuteTime": {
     "end_time": "2024-09-07T17:02:10.148438Z",
     "start_time": "2024-09-07T17:02:10.145581Z"
    }
   },
   "cell_type": "code",
   "source": "",
   "id": "d7aa26ae8d37cd76",
   "outputs": [],
   "execution_count": null
  },
  {
   "metadata": {
    "ExecuteTime": {
     "end_time": "2024-09-07T17:02:10.177892Z",
     "start_time": "2024-09-07T17:02:10.175541Z"
    }
   },
   "cell_type": "code",
   "source": "",
   "id": "909dddf0ec8aa15",
   "outputs": [],
   "execution_count": null
  },
  {
   "metadata": {
    "ExecuteTime": {
     "end_time": "2024-09-07T17:02:10.228796Z",
     "start_time": "2024-09-07T17:02:10.225681Z"
    }
   },
   "cell_type": "code",
   "source": "",
   "id": "e808524933217f99",
   "outputs": [],
   "execution_count": null
  },
  {
   "metadata": {
    "ExecuteTime": {
     "end_time": "2024-09-07T17:02:10.256224Z",
     "start_time": "2024-09-07T17:02:10.253209Z"
    }
   },
   "cell_type": "code",
   "source": "",
   "id": "da3ad37f0cc8d59b",
   "outputs": [],
   "execution_count": null
  },
  {
   "metadata": {
    "ExecuteTime": {
     "end_time": "2024-09-07T17:02:10.264003Z",
     "start_time": "2024-09-07T17:02:10.261265Z"
    }
   },
   "cell_type": "code",
   "source": "",
   "id": "3326e46a65213c32",
   "outputs": [],
   "execution_count": null
  },
  {
   "metadata": {},
   "cell_type": "code",
   "outputs": [],
   "execution_count": null,
   "source": "",
   "id": "9c9f5aca24a305e"
  }
 ],
 "metadata": {
  "kernelspec": {
   "display_name": "Python 3",
   "language": "python",
   "name": "python3"
  },
  "language_info": {
   "codemirror_mode": {
    "name": "ipython",
    "version": 2
   },
   "file_extension": ".py",
   "mimetype": "text/x-python",
   "name": "python",
   "nbconvert_exporter": "python",
   "pygments_lexer": "ipython2",
   "version": "2.7.6"
  }
 },
 "nbformat": 4,
 "nbformat_minor": 5
}
