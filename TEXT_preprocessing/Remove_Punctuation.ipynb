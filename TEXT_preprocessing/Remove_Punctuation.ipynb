{
 "cells": [
  {
   "cell_type": "code",
   "source": [
    "import pandas as pd"
   ],
   "metadata": {
    "collapsed": false,
    "ExecuteTime": {
     "end_time": "2024-08-16T11:09:58.228865Z",
     "start_time": "2024-08-16T11:09:57.702443Z"
    }
   },
   "id": "1c44d2d069f4d9c1",
   "outputs": [],
   "execution_count": 1
  },
  {
   "cell_type": "code",
   "source": [
    "df = pd.read_csv(r'C:\\Users\\Asus\\NLP\\IMDB Dataset.csv\\IMDB Dataset.csv')"
   ],
   "metadata": {
    "collapsed": false,
    "ExecuteTime": {
     "end_time": "2024-08-16T11:10:01.353980Z",
     "start_time": "2024-08-16T11:10:00.485147Z"
    }
   },
   "id": "aec22136956d3c81",
   "outputs": [],
   "execution_count": 2
  },
  {
   "cell_type": "markdown",
   "source": [
    "# Lowercase"
   ],
   "metadata": {
    "collapsed": false
   },
   "id": "9a31f5f99f9a3776"
  },
  {
   "cell_type": "code",
   "source": [
    "df['review'] = df['review'].str.lower()"
   ],
   "metadata": {
    "collapsed": false,
    "ExecuteTime": {
     "end_time": "2024-08-16T11:10:03.273959Z",
     "start_time": "2024-08-16T11:10:03.124614Z"
    }
   },
   "id": "b4c77127151c84fc",
   "outputs": [],
   "execution_count": 3
  },
  {
   "cell_type": "code",
   "source": [
    "import re\n",
    "\n",
    "def urls_remove(text):\n",
    "    pattern = re.compile(r'https?//\\S+|www.\\.\\S+.*?>')\n",
    "    return pattern.sub(r'',text)\n",
    "def html_remove(text):\n",
    "    pattern = re.compile(r'<.*?>')\n",
    "    return pattern.sub(r'',text)"
   ],
   "metadata": {
    "collapsed": false,
    "ExecuteTime": {
     "end_time": "2024-08-16T11:10:03.553052Z",
     "start_time": "2024-08-16T11:10:03.548538Z"
    }
   },
   "id": "73f80ca7723ed8e6",
   "outputs": [],
   "execution_count": 4
  },
  {
   "cell_type": "code",
   "source": [
    "df['review'] = df['review'].apply(html_remove,urls_remove)"
   ],
   "metadata": {
    "collapsed": false,
    "ExecuteTime": {
     "end_time": "2024-08-16T11:10:04.201952Z",
     "start_time": "2024-08-16T11:10:04.048001Z"
    }
   },
   "id": "aa0cc2ccfa44c327",
   "outputs": [],
   "execution_count": 5
  },
  {
   "cell_type": "code",
   "source": [
    "import string,time\n",
    "string.punctuation"
   ],
   "metadata": {
    "collapsed": false,
    "ExecuteTime": {
     "end_time": "2024-08-16T11:10:04.538601Z",
     "start_time": "2024-08-16T11:10:04.531199Z"
    }
   },
   "id": "c0a9860b3635c206",
   "outputs": [
    {
     "data": {
      "text/plain": [
       "'!\"#$%&\\'()*+,-./:;<=>?@[\\\\]^_`{|}~'"
      ]
     },
     "execution_count": 6,
     "metadata": {},
     "output_type": "execute_result"
    }
   ],
   "execution_count": 6
  },
  {
   "cell_type": "markdown",
   "source": [
    "## This fucking picece of code is slow so dont use this one"
   ],
   "metadata": {
    "collapsed": false
   },
   "id": "88fe1e89a4757766"
  },
  {
   "cell_type": "code",
   "source": [
    "exclude = string.punctuation\n",
    "\n",
    "def remove_punc(text):\n",
    "    for char in exclude:\n",
    "        text = text.replace(char,'')\n",
    "    return text"
   ],
   "metadata": {
    "collapsed": false,
    "ExecuteTime": {
     "end_time": "2024-08-16T11:10:06.250004Z",
     "start_time": "2024-08-16T11:10:06.245712Z"
    }
   },
   "id": "c9082d459da087ba",
   "outputs": [],
   "execution_count": 7
  },
  {
   "cell_type": "code",
   "source": [
    "text ='string . with ? ; Punctuatom*'\n",
    "start = time.time()\n",
    "print(remove_punc(text))\n",
    "time1 = time.time()- start\n",
    "print(time1*50000)"
   ],
   "metadata": {
    "collapsed": false,
    "ExecuteTime": {
     "end_time": "2024-08-16T11:10:06.719999Z",
     "start_time": "2024-08-16T11:10:06.715827Z"
    }
   },
   "id": "7ac179b150f9ff6b",
   "outputs": [
    {
     "name": "stdout",
     "output_type": "stream",
     "text": [
      "string  with   Punctuatom\n",
      "50.72355270385742\n"
     ]
    }
   ],
   "execution_count": 8
  },
  {
   "cell_type": "markdown",
   "source": [
    "## Instead use this one & this one is 20 times faster than regular one"
   ],
   "metadata": {
    "collapsed": false
   },
   "id": "402b3d77fa2d100a"
  },
  {
   "cell_type": "code",
   "source": [
    "def remove_punc1(text):\n",
    "    return text.translate(str.maketrans('','',exclude))"
   ],
   "metadata": {
    "collapsed": false,
    "ExecuteTime": {
     "end_time": "2024-08-16T11:10:09.078922Z",
     "start_time": "2024-08-16T11:10:09.074919Z"
    }
   },
   "id": "1b7f0d7ed36fbf44",
   "outputs": [],
   "execution_count": 9
  },
  {
   "cell_type": "code",
   "source": [
    "start = time.time()\n",
    "print(remove_punc1(text))\n",
    "time2 = time.time()-start\n"
   ],
   "metadata": {
    "collapsed": false,
    "ExecuteTime": {
     "end_time": "2024-08-16T11:10:09.424372Z",
     "start_time": "2024-08-16T11:10:09.419474Z"
    }
   },
   "id": "14d993a0c2d065e0",
   "outputs": [
    {
     "name": "stdout",
     "output_type": "stream",
     "text": [
      "string  with   Punctuatom\n"
     ]
    }
   ],
   "execution_count": 10
  },
  {
   "cell_type": "code",
   "source": [
    "df['review']=df['review'].apply(remove_punc1)"
   ],
   "metadata": {
    "collapsed": false,
    "ExecuteTime": {
     "end_time": "2024-08-16T11:10:10.503202Z",
     "start_time": "2024-08-16T11:10:09.682237Z"
    }
   },
   "id": "14c1ca09c61aa00b",
   "outputs": [],
   "execution_count": 11
  },
  {
   "cell_type": "code",
   "execution_count": 46,
   "outputs": [
    {
     "data": {
      "text/plain": "'basically theres a family where a little boy jake thinks theres a zombie in his closet  his parents are fighting all the timethis movie is slower than a soap opera and suddenly jake decides to become rambo and kill the zombieok first of all when youre going to make a film you must decide if its a thriller or a drama as a drama the movie is watchable parents are divorcing  arguing like in real life and then we have jake with his closet which totally ruins all the film i expected to see a boogeyman similar movie and instead i watched a drama with some meaningless thriller spots3 out of 10 just for the well playing parents  descent dialogs as for the shots with jake just ignore them'"
     },
     "execution_count": 46,
     "metadata": {},
     "output_type": "execute_result"
    }
   ],
   "source": [
    "df['review'][3]"
   ],
   "metadata": {
    "collapsed": false,
    "ExecuteTime": {
     "end_time": "2024-08-15T11:58:46.835183100Z",
     "start_time": "2024-08-15T11:58:46.821708300Z"
    }
   },
   "id": "92ea6bdf1e4fd824"
  },
  {
   "cell_type": "code",
   "execution_count": null,
   "outputs": [],
   "source": [],
   "metadata": {
    "collapsed": false
   },
   "id": "8e820b8c23ceac75"
  }
 ],
 "metadata": {
  "kernelspec": {
   "display_name": "Python 3",
   "language": "python",
   "name": "python3"
  },
  "language_info": {
   "codemirror_mode": {
    "name": "ipython",
    "version": 2
   },
   "file_extension": ".py",
   "mimetype": "text/x-python",
   "name": "python",
   "nbconvert_exporter": "python",
   "pygments_lexer": "ipython2",
   "version": "2.7.6"
  }
 },
 "nbformat": 4,
 "nbformat_minor": 5
}
